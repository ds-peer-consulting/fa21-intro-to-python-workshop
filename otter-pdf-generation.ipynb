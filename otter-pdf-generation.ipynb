{
 "cells": [
  {
   "cell_type": "markdown",
   "metadata": {},
   "source": [
    "# Generating PDFs with Otter"
   ]
  },
  {
   "cell_type": "markdown",
   "metadata": {},
   "source": [
    "To generate a PDF of a notebook with Otter, use `otter.export.export_notebook`:"
   ]
  },
  {
   "cell_type": "code",
   "execution_count": 1,
   "metadata": {},
   "outputs": [
    {
     "name": "stdout",
     "output_type": "stream",
     "text": [
      "Help on function export_notebook in module otter.export:\n",
      "\n",
      "export_notebook(nb_path, dest=None, debug=False, exporter_type=None, **kwargs)\n",
      "    Exports a notebook file at ``nb_path`` to a PDF with optional filtering and pagebreaks. Accepts\n",
      "    other ``kwargs`` passed to the exporter class's ``convert_notebook`` class method.\n",
      "    \n",
      "    Args:\n",
      "        nb_path (``str``): path to notebook\n",
      "        dest (``str``, optional): path to write PDF\n",
      "        debug (``bool``, optional): whether to run export in debug mode\n",
      "        exporter_type (``str``, optional): the type of exporter to use; one of {'html', 'latex'}\n",
      "\n"
     ]
    }
   ],
   "source": [
    "from otter.export import export_notebook\n",
    "help(export_notebook)"
   ]
  },
  {
   "cell_type": "markdown",
   "metadata": {},
   "source": [
    "It takes as its first argument the path to the notebook. If `dest` is unspecified, the PDF will be written as the notebook filename with a `.pdf` extension, e.g. `hw01.ipynb -> hw01.pdf`."
   ]
  },
  {
   "cell_type": "code",
   "execution_count": 2,
   "metadata": {},
   "outputs": [
    {
     "name": "stdout",
     "output_type": "stream",
     "text": [
      " AcaDev\t\t\t      lab06.ipynb\r\n",
      " BUDS-student-su2020\t      lab06.pdf\r\n",
      " BUDS-su20\t\t      LEGALST-190\r\n",
      " CE-110\t\t\t      LEGALST-88\r\n",
      " CE-110-old-delete\t     'LS 88'\r\n",
      " COGSCI-1\t\t      LS-88-OpenScience\r\n",
      " colwrit-r4b\t\t      materials-fa17\r\n",
      " core-resources\t\t      materials-fa18\r\n",
      " COVID-19\t\t      materials-sp18\r\n",
      " cs88\t\t\t      materials-sp20\r\n",
      " data-6-su20\t\t      MCB-50\r\n",
      " ds198_mch_infodemiology      MLmini-lec-old\r\n",
      "'DS Curriculum Development'  'Modern Shelving'\r\n",
      " dss-f18\t\t      modules-ipynb\r\n",
      " DSS_fa2019\t\t      otter-pdf-generation.ipynb\r\n",
      " DSS-GM\t\t\t      otter-pdf-generation.pdf\r\n",
      " dss-pythlib-fa2019\t      pdf_test\r\n",
      " E-157AC\t\t      ph196-fa19\r\n",
      " ES-21AC-SP19\t\t     'project4 (2).ipynb'\r\n",
      " ES-21AC-sp20\t\t      Projects\r\n",
      " ESPM-163ac\t\t      PSYCH-167AC\r\n",
      " ESPM-163ac-old\t\t      Rediscovering-Text-as-Data\r\n",
      " fa19\t\t\t      scikit_learn_data\r\n",
      " final_sp20-2.ipynb\t      seaborn-data\r\n",
      " FRENCH-43\t\t      SOC-130AC\r\n",
      " FRENCH-43-1\t\t      stat89a\r\n",
      " geonomics_biogeo_demo\t      student\r\n",
      " GM_Meeting_3\t\t      surveydata\r\n",
      " IAS-150\t\t      textbook\r\n",
      " IAS-150-old\t\t      Visualization_Mini_Lec_Adv\r\n",
      " IB-105-ESPM-125-fa20\t      XRHETOR-R1A\r\n",
      " lab06_data.zip\r\n"
     ]
    }
   ],
   "source": [
    "export_notebook(\"otter-pdf-generation.ipynb\")\n",
    "!ls"
   ]
  },
  {
   "cell_type": "markdown",
   "metadata": {},
   "source": [
    "## Cell Filtering\n",
    "\n",
    "Otter supports cell filtering in order to make grading assignments simpler by removing unneeded context. To use cell filtering, wrap any exportable content in the HTML comments `<!-- BEGIN QUESTION -->` and `<!-- END QUESTION -->` **on their own line** in Markdown.\n",
    "\n",
    "<!-- BEGIN QUESTION -->\n",
    "\n",
    "For example, take a look at this cell. On the line above this paragraph, there's an opening comment, so this paragraph (but not anything above) will be exported. So will the code cell below."
   ]
  },
  {
   "cell_type": "code",
   "execution_count": 3,
   "metadata": {},
   "outputs": [
    {
     "data": {
      "image/png": "[encoded data removed]",
      "text/plain": [
       "<Figure size 432x288 with 1 Axes>"
      ]
     },
     "metadata": {
      "needs_background": "light"
     },
     "output_type": "display_data"
    }
   ],
   "source": [
    "import matplotlib.pyplot as plt\n",
    "import numpy as np\n",
    "%matplotlib inline\n",
    "\n",
    "x = np.linspace(0, 10, 100)\n",
    "y = np.random.uniform(0, 1, 100)\n",
    "plt.scatter(x, y);"
   ]
  },
  {
   "cell_type": "markdown",
   "metadata": {},
   "source": [
    "<!-- END QUESTION -->\n",
    "\n",
    "Now take a look at this cell. The first line has a closing comment, so this paragraph won't be exported.\n",
    "\n",
    "To export a notebook with filtering, use the kwarg `filtering=True`:"
   ]
  },
  {
   "cell_type": "code",
   "execution_count": 4,
   "metadata": {},
   "outputs": [],
   "source": [
    "export_notebook(\"otter-pdf-generation.ipynb\", filtering=True)"
   ]
  },
  {
   "cell_type": "markdown",
   "metadata": {},
   "source": [
    "## Pagebreaks\n",
    "\n",
    "To make it easier to use Gradescope with assignments, Otter will also include pagebreaks between exported sections so that templating can be made easier. To use this, set the kwarg `pagebreaks=True`. Note that you must also set `filtering=True` or `pagebreaks` will be ignored."
   ]
  },
  {
   "cell_type": "markdown",
   "metadata": {},
   "source": [
    "To use pagebreaks efficiently, let's look at to consecutive questions."
   ]
  },
  {
   "cell_type": "markdown",
   "metadata": {},
   "source": [
    "<!-- BEGIN QUESTION -->\n",
    "\n",
    "**Question 1:** Do something."
   ]
  },
  {
   "cell_type": "markdown",
   "metadata": {},
   "source": [
    "_Student's answer._"
   ]
  },
  {
   "cell_type": "markdown",
   "metadata": {},
   "source": [
    "<!-- END QUESTION -->\n",
    "\n",
    "<!-- BEGIN QUESTION -->\n",
    "\n",
    "**Question 2:** Do something else."
   ]
  },
  {
   "cell_type": "code",
   "execution_count": 5,
   "metadata": {},
   "outputs": [
    {
     "data": {
      "image/png": "[encoded data removed]",
      "text/plain": [
       "<Figure size 432x288 with 1 Axes>"
      ]
     },
     "metadata": {
      "needs_background": "light"
     },
     "output_type": "display_data"
    }
   ],
   "source": [
    "import matplotlib.pyplot as plt\n",
    "import numpy as np\n",
    "%matplotlib inline\n",
    "\n",
    "x = np.linspace(0, 10, 100)\n",
    "y = np.random.normal(0, 1, 100)\n",
    "plt.scatter(x, y);"
   ]
  },
  {
   "cell_type": "markdown",
   "metadata": {},
   "source": [
    "<!-- END QUESTION -->\n",
    "\n",
    "Take a look at the cell that contains Question 2. Note that there are _two_ HTML comments in sequence. This tells Otter to include a pagebreak in between the end of Question 1 and the beginning of Question 2.\n",
    "\n",
    "Let's export the notebook:"
   ]
  },
  {
   "cell_type": "code",
   "execution_count": 6,
   "metadata": {},
   "outputs": [],
   "source": [
    "export_notebook(\"otter-pdf-generation.ipynb\", filtering=True, pagebreaks=True)"
   ]
  },
  {
   "cell_type": "markdown",
   "metadata": {},
   "source": [
    " "
   ]
  }
 ],
 "metadata": {
  "kernelspec": {
   "display_name": "Python 3",
   "language": "python",
   "name": "python3"
  },
  "language_info": {
   "codemirror_mode": {
    "name": "ipython",
    "version": 3
   },
   "file_extension": ".py",
   "mimetype": "text/x-python",
   "name": "python",
   "nbconvert_exporter": "python",
   "pygments_lexer": "ipython3",
   "version": "3.8.5"
  }
 },
 "nbformat": 4,
 "nbformat_minor": 4
}

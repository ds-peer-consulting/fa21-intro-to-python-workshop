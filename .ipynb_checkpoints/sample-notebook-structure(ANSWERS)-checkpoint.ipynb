{
 "cells": [
  {
   "cell_type": "code",
   "execution_count": null,
   "metadata": {},
   "outputs": [],
   "source": [
    "# CODE CELLS WITH COMMENTS WILL CONTAIN INSTRUCTIONS\n",
    "# REMEMBER TO DELETE ALL THE CODE CELLS BEFORE THE DRY RUN/ACTUAL RUN OF THE WORKSHOP"
   ]
  },
  {
   "cell_type": "markdown",
   "metadata": {},
   "source": [
    "<div>\n",
    "<img src=\"images/dsep-banner.png\" width=\"1200\" style=\"float:center\"/>\n",
    "</div>"
   ]
  },
  {
   "cell_type": "code",
   "execution_count": null,
   "metadata": {},
   "outputs": [],
   "source": [
    "# remove the banner and replace with a different one if it's inappropriate \n",
    "# e.g. perhaps if it is hosted by the Library or we get a new banner"
   ]
  },
  {
   "cell_type": "markdown",
   "metadata": {},
   "source": [
    "# **Welcome to The INSERT WORKSHOP TITLE**\n",
    "By PERSON1 and PERSON2  \n",
    "\n",
    "In Collaboration with the Division of Data Science's [Data Peer Consulting](https://data.berkeley.edu/ds-peer-consulting)"
   ]
  },
  {
   "cell_type": "markdown",
   "metadata": {},
   "source": [
    "### BEFORE WE BEGIN PLEASE COMPLETE THIS SURVEY\n",
    "[Insert Actual Survey Link](https://google.com)  "
   ]
  },
  {
   "cell_type": "code",
   "execution_count": 13,
   "metadata": {},
   "outputs": [],
   "source": [
    "## Update the survey link above!"
   ]
  },
  {
   "cell_type": "markdown",
   "metadata": {},
   "source": [
    "## Sample Introduction: Vincent Lao \n",
    "![Vincent](https://data.berkeley.edu/sites/default/files/styles/width_400/public/general/vincent-headshot-2_-_vincent_lao_1_0.jpg?itok=98MmRkiK&timestamp=1599233937)\n",
    "\n",
    "Quick Facts About Me:\n",
    "\n",
    "    🐻 Senior at Cal\n",
    "    🎒 Studying Data Science and Statistics\n",
    "    👨🏼‍🏫 Former Tutor for Data100, Reader for Stat151a\n",
    "    🏢 Previously interned with the U.S. Naval Research Laboratory & researched at Osaka Univeristy\n",
    "    📊 Joined the Data Peer Consulting team in Fall 2019\n",
    "\n",
    "How to Reach Me:\n",
    "\n",
    "    📮 Email: vincent.lao@berkeley.edu\n",
    "    👨🏼‍💻 Github: @vincent-lao"
   ]
  },
  {
   "cell_type": "code",
   "execution_count": 9,
   "metadata": {},
   "outputs": [],
   "source": [
    "# To insert your image, either upload it to the Github folder, or go to our peer consulting website and \n",
    "# get the image URL for your image.  \n",
    "# Repeat the above for each workshop facillitator."
   ]
  },
  {
   "cell_type": "code",
   "execution_count": null,
   "metadata": {},
   "outputs": [],
   "source": [
    "### Jupyter notebooks have a lot of commands you can use to insert cells, delete cells, etc. \n",
    "### To use the commands, you have to click outside of the cells.\n",
    "### <---- the cell should be blue, as opposed to green when you are typing in the cells.\n",
    "### Press your `esc` key to quickly click out of the cell.\n",
    "\n",
    "### Commands:\n",
    "\n",
    "# m - turn highlighted cell into a Markdown cell\n",
    "# y - turn highlighted cell into a Code cell\n",
    "# a - add cell above\n",
    "# b - add cell below\n",
    "# x - cut cell\n",
    "# c - copy cell\n",
    "# v - paste cell\n",
    "\n",
    "# h - see ALL keyboard shortcuts for Jupyter Notebooks"
   ]
  },
  {
   "cell_type": "code",
   "execution_count": 11,
   "metadata": {},
   "outputs": [],
   "source": [
    "# you can place three dashes in a Markdown cell to create this dividing line, \n",
    "# although I'm not sure why sometimes it's bolded, and other times it's not.\n",
    "# for example, see the cell below"
   ]
  },
  {
   "cell_type": "markdown",
   "metadata": {},
   "source": [
    "---\n",
    "\n",
    "## Workshop Goals ; use two #'s for section headers\n",
    " \n",
    "Use normal text for descriptions.\n",
    "\n",
    "- *Italicize*\n",
    "- **Bold**\n",
    "- [Hyperlinks](https://data.berkeley.edu/consulting)\n",
    "\n",
    "For this section, include a couple of sentences on the workshop as a whole and the importance of learning this topic. 20-30 seconds max. \n",
    "\n",
    "- Followed by 2-3 goals that this workshop seeks to accomplish\n",
    "- 1 minute max."
   ]
  },
  {
   "cell_type": "markdown",
   "metadata": {},
   "source": [
    "<a class=\"anchor\" id=\"tof\"></a>\n",
    "## Table of Contents\n",
    "\n",
    "Use anchors to set these hyperlinks to jump to certain locations in the notebook. \n",
    "\n",
    "- [Section 1 Topic](#1)\n",
    "- [Section 2 Topic](#2)\n",
    "- [Reference Sheets](#rs)"
   ]
  },
  {
   "cell_type": "markdown",
   "metadata": {},
   "source": [
    "---\n",
    "\n",
    "<a class=\"anchor\" id=\"1\"></a>\n",
    "## Section 1 Name Placeholder\n",
    "[Back to Table of Contents](#tof)\n",
    "\n",
    "Optional: Start with a short introduction to the topic relative, use cases, and perhaps a real life example. This should be a brief read, 15-20 seconds max."
   ]
  },
  {
   "cell_type": "code",
   "execution_count": null,
   "metadata": {},
   "outputs": [],
   "source": [
    "# Important Note: Since we are using this structure where we don't create slides, \n",
    "# our notebooks should be completely self-contained.\n",
    "\n",
    "# In other words, include a narration as you go through examples so that even without\n",
    "# the explanation you would give at a workshop, \n",
    "# someone could still go through it and understand what's going on.\n",
    "\n",
    "# Essentially write down a concise version of what you would say at the actual workshop.\n",
    "# This serves as a good way to practice for the workshop as well, and acts as your \"speaker notes\".\n",
    "\n",
    "## Finally, make sure you document your code really well with comments!"
   ]
  },
  {
   "cell_type": "code",
   "execution_count": null,
   "metadata": {},
   "outputs": [],
   "source": [
    "# Include a 2-3 bullet summary at the end of each section."
   ]
  },
  {
   "cell_type": "markdown",
   "metadata": {},
   "source": [
    "### Exercise 1\n",
    "\n",
    "*Hint:* This hint might be useful! Include hyperlinks if you'd like."
   ]
  },
  {
   "cell_type": "code",
   "execution_count": null,
   "metadata": {},
   "outputs": [],
   "source": [
    "# todo"
   ]
  },
  {
   "cell_type": "markdown",
   "metadata": {},
   "source": [
    "### Exercise 2"
   ]
  },
  {
   "cell_type": "code",
   "execution_count": null,
   "metadata": {},
   "outputs": [],
   "source": [
    "# todo"
   ]
  },
  {
   "cell_type": "markdown",
   "metadata": {},
   "source": [
    "### Exercise 3"
   ]
  },
  {
   "cell_type": "code",
   "execution_count": null,
   "metadata": {},
   "outputs": [],
   "source": [
    "# todo"
   ]
  },
  {
   "cell_type": "markdown",
   "metadata": {},
   "source": [
    "---\n",
    "\n",
    "<a class=\"anchor\" id=\"2\"></a>\n",
    "## Section 2 Name Placeholder\n",
    "[Back to Table of Contents](#tof)"
   ]
  },
  {
   "cell_type": "code",
   "execution_count": null,
   "metadata": {},
   "outputs": [],
   "source": [
    "# Include a 2-3 bullet summary at the end of each section."
   ]
  },
  {
   "cell_type": "markdown",
   "metadata": {},
   "source": [
    "### Exercise 1"
   ]
  },
  {
   "cell_type": "code",
   "execution_count": null,
   "metadata": {},
   "outputs": [],
   "source": [
    "# It's much easier to make all the exercises first.\n",
    "# Then right before the workshop / after the notebook is 110% finalized, make a copy of this and delete the solutions,\n",
    "# replacing it with blanks, and renaming the notebook without the (ANSWERS)"
   ]
  },
  {
   "cell_type": "markdown",
   "metadata": {},
   "source": [
    "### Exercise 2"
   ]
  },
  {
   "cell_type": "code",
   "execution_count": null,
   "metadata": {},
   "outputs": [],
   "source": [
    "# todo"
   ]
  },
  {
   "cell_type": "markdown",
   "metadata": {},
   "source": [
    "### Exercise 3"
   ]
  },
  {
   "cell_type": "code",
   "execution_count": null,
   "metadata": {},
   "outputs": [],
   "source": [
    "# todo"
   ]
  },
  {
   "cell_type": "markdown",
   "metadata": {},
   "source": [
    "## Thanks for Coming! PLEASE COMPLETE THIS POST-WORKSHOP SURVEY!  \n",
    "[Insert Actual Survey Link Here](https://google.com)"
   ]
  },
  {
   "cell_type": "code",
   "execution_count": null,
   "metadata": {},
   "outputs": [],
   "source": [
    "### Insert actual survey link above"
   ]
  },
  {
   "cell_type": "markdown",
   "metadata": {},
   "source": [
    "<a class=\"anchor\" id=\"rs\"></a>\n",
    "### Reference Sheets!\n",
    "[Back to Table of Contents](#tof)\n",
    "\n",
    "Links updated as of 1/1/11.\n",
    "\n",
    "- [NumPy Cheat Sheet](https://s3.amazonaws.com/assets.datacamp.com/blog_assets/Numpy_Python_Cheat_Sheet.pdf)  \n",
    "- [Pandas Cheat Sheet](https://pandas.pydata.org/Pandas_Cheat_Sheet.pdf)  \n",
    "- [Matplotlib Cheat Sheet](https://s3.amazonaws.com/assets.datacamp.com/blog_assets/Python_Matplotlib_Cheat_Sheet.pdf)  \n",
    "- [Seaborn Cheat Sheet](https://s3.amazonaws.com/assets.datacamp.com/blog_assets/Python_Seaborn_Cheat_Sheet.pdf)"
   ]
  },
  {
   "cell_type": "markdown",
   "metadata": {},
   "source": [
    "### More Resources\n",
    "1. Data Peer Consultants - That's us! We help undergrads and graduate students with projects, research, and more! Come to our drop-in hours.  \n",
    "https://data.berkeley.edu/ds-peer-consulting"
   ]
  },
  {
   "cell_type": "markdown",
   "metadata": {},
   "source": [
    "2. Towards Data Science - Website full of good blogs and helpful introductions to data science stuff.  \n",
    "https://towardsdatascience.com/"
   ]
  },
  {
   "cell_type": "markdown",
   "metadata": {},
   "source": [
    "3. Stack Overflow // Google - A great data scientist is adept at using StackOverflow and Google to find the answers to their bugs. More likely than not, someone out there has ran into the exact same problem as you, so might as well use their solutions as a resource!"
   ]
  },
  {
   "cell_type": "markdown",
   "metadata": {},
   "source": [
    "**if relevant; replace with your links**\n",
    "4. Data Carpentries - We would like to cite them as a source of inspiration for the structure of our workshop.  \n",
    "https://swcarpentry.github.io/python-novice-inflammation/03-matplotlib/index.html  \n",
    "https://datacarpentry.org/python-ecology-lesson/08-putting-it-all-together/index.html"
   ]
  },
  {
   "cell_type": "code",
   "execution_count": null,
   "metadata": {},
   "outputs": [],
   "source": [
    "# Feel free to add any other resources you'd like."
   ]
  }
 ],
 "metadata": {
  "kernelspec": {
   "display_name": "Python 3",
   "language": "python",
   "name": "python3"
  },
  "language_info": {
   "codemirror_mode": {
    "name": "ipython",
    "version": 3
   },
   "file_extension": ".py",
   "mimetype": "text/x-python",
   "name": "python",
   "nbconvert_exporter": "python",
   "pygments_lexer": "ipython3",
   "version": "3.8.3"
  }
 },
 "nbformat": 4,
 "nbformat_minor": 4
}
